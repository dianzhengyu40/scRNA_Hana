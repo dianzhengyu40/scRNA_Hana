import scanpy as sc
import scanpy.external as sce
import matplotlib.pyplot as plt
import seaborn as sns
import numpy as np
import pandas as pd
from pathlib import Path

# Settings
sc.settings.verbosity = 2
sc.set_figure_params(dpi=100, dpi_save=300, figsize=(6, 6), facecolor='white')

# Project paths
DATADIR = Path("..") / "data"
FIGDIR = Path("..") / "figures"
OBJDIR = Path("..") / "objects"

FIGDIR.mkdir(exist_ok=True)
OBJDIR.mkdir(exist_ok=True)



