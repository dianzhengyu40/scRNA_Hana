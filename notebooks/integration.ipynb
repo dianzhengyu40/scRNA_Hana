{
 "cells": [
  {
   "cell_type": "code",
   "execution_count": 6,
   "id": "95e2c4d1-c1b3-41b4-b67c-7efb76f795d5",
   "metadata": {},
   "outputs": [],
   "source": [
    "import scanpy as sc\n",
    "import scanpy.external as sce\n",
    "import matplotlib.pyplot as plt\n",
    "import seaborn as sns\n",
    "import numpy as np\n",
    "import pandas as pd\n",
    "from pathlib import Path\n",
    "\n",
    "# Settings\n",
    "sc.settings.verbosity = 2\n",
    "sc.set_figure_params(dpi=100, dpi_save=300, figsize=(6, 6), facecolor='white')\n",
    "\n",
    "# Project paths\n",
    "DATADIR = Path(\"..\") / \"data\"\n",
    "FIGDIR = Path(\"..\") / \"figures\"\n",
    "OBJDIR = Path(\"..\") / \"objects\"\n",
    "\n",
    "FIGDIR.mkdir(exist_ok=True)\n",
    "OBJDIR.mkdir(exist_ok=True)"
   ]
  },
  {
   "cell_type": "code",
   "execution_count": null,
   "id": "54156d8b-b83c-4917-9249-ea02ed59e79f",
   "metadata": {},
   "outputs": [],
   "source": []
  }
 ],
 "metadata": {
  "kernelspec": {
   "display_name": "Python (scanpy_env)",
   "language": "python",
   "name": "scanpy_env"
  },
  "language_info": {
   "codemirror_mode": {
    "name": "ipython",
    "version": 3
   },
   "file_extension": ".py",
   "mimetype": "text/x-python",
   "name": "python",
   "nbconvert_exporter": "python",
   "pygments_lexer": "ipython3",
   "version": "3.11.8"
  }
 },
 "nbformat": 4,
 "nbformat_minor": 5
}
