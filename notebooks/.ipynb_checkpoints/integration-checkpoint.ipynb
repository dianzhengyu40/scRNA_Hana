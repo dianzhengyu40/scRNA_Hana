{
 "cells": [
  {
   "cell_type": "code",
   "execution_count": 6,
   "id": "95e2c4d1-c1b3-41b4-b67c-7efb76f795d5",
   "metadata": {},
   "outputs": [],
   "source": [
    "import scanpy as sc\n",
    "import scanpy.external as sce\n",
    "import matplotlib.pyplot as plt\n",
    "import seaborn as sns\n",
    "import numpy as np\n",
    "import pandas as pd\n",
    "from pathlib import Path\n",
    "\n",
    "# Settings\n",
    "sc.settings.verbosity = 2\n",
    "sc.set_figure_params(dpi=100, dpi_save=300, figsize=(6, 6), facecolor='white')\n",
    "\n",
    "# Project paths\n",
    "DATADIR = Path(\"..\") / \"data\"\n",
    "FIGDIR = Path(\"..\") / \"figures\"\n",
    "OBJDIR = Path(\"..\") / \"objects\"\n",
    "\n",
    "FIGDIR.mkdir(exist_ok=True)\n",
    "OBJDIR.mkdir(exist_ok=True)"
   ]
  },
  {
   "cell_type": "code",
   "execution_count": 7,
   "id": "ab6d4e58-ac1f-445c-9ecd-f313fb156e0c",
   "metadata": {},
   "outputs": [
    {
     "ename": "FileNotFoundError",
     "evalue": "[Errno 2] No such file or directory: 'data'",
     "output_type": "error",
     "traceback": [
      "\u001b[31m---------------------------------------------------------------------------\u001b[39m",
      "\u001b[31mFileNotFoundError\u001b[39m                         Traceback (most recent call last)",
      "\u001b[36mCell\u001b[39m\u001b[36m \u001b[39m\u001b[32mIn[7]\u001b[39m\u001b[32m, line 2\u001b[39m\n\u001b[32m      1\u001b[39m data_dir = Path(\u001b[33m\"\u001b[39m\u001b[33mdata\u001b[39m\u001b[33m\"\u001b[39m)\n\u001b[32m----> \u001b[39m\u001b[32m2\u001b[39m sample_dirs = \u001b[43m[\u001b[49m\u001b[43md\u001b[49m\u001b[43m \u001b[49m\u001b[38;5;28;43;01mfor\u001b[39;49;00m\u001b[43m \u001b[49m\u001b[43md\u001b[49m\u001b[43m \u001b[49m\u001b[38;5;129;43;01min\u001b[39;49;00m\u001b[43m \u001b[49m\u001b[43mdata_dir\u001b[49m\u001b[43m.\u001b[49m\u001b[43miterdir\u001b[49m\u001b[43m(\u001b[49m\u001b[43m)\u001b[49m\u001b[43m \u001b[49m\u001b[38;5;28;43;01mif\u001b[39;49;00m\u001b[43m \u001b[49m\u001b[43md\u001b[49m\u001b[43m.\u001b[49m\u001b[43mis_dir\u001b[49m\u001b[43m(\u001b[49m\u001b[43m)\u001b[49m\u001b[43m]\u001b[49m\n\u001b[32m      3\u001b[39m adatas = []\n\u001b[32m      5\u001b[39m \u001b[38;5;28;01mfor\u001b[39;00m sample_dir \u001b[38;5;129;01min\u001b[39;00m sample_dirs:\n",
      "\u001b[36mCell\u001b[39m\u001b[36m \u001b[39m\u001b[32mIn[7]\u001b[39m\u001b[32m, line 2\u001b[39m, in \u001b[36m<listcomp>\u001b[39m\u001b[34m(.0)\u001b[39m\n\u001b[32m      1\u001b[39m data_dir = Path(\u001b[33m\"\u001b[39m\u001b[33mdata\u001b[39m\u001b[33m\"\u001b[39m)\n\u001b[32m----> \u001b[39m\u001b[32m2\u001b[39m sample_dirs = \u001b[43m[\u001b[49m\u001b[43md\u001b[49m\u001b[43m \u001b[49m\u001b[38;5;28;43;01mfor\u001b[39;49;00m\u001b[43m \u001b[49m\u001b[43md\u001b[49m\u001b[43m \u001b[49m\u001b[38;5;129;43;01min\u001b[39;49;00m\u001b[43m \u001b[49m\u001b[43mdata_dir\u001b[49m\u001b[43m.\u001b[49m\u001b[43miterdir\u001b[49m\u001b[43m(\u001b[49m\u001b[43m)\u001b[49m\u001b[43m \u001b[49m\u001b[38;5;28;43;01mif\u001b[39;49;00m\u001b[43m \u001b[49m\u001b[43md\u001b[49m\u001b[43m.\u001b[49m\u001b[43mis_dir\u001b[49m\u001b[43m(\u001b[49m\u001b[43m)\u001b[49m\u001b[43m]\u001b[49m\n\u001b[32m      3\u001b[39m adatas = []\n\u001b[32m      5\u001b[39m \u001b[38;5;28;01mfor\u001b[39;00m sample_dir \u001b[38;5;129;01min\u001b[39;00m sample_dirs:\n",
      "\u001b[36mFile \u001b[39m\u001b[32m~/anaconda3/envs/scanpy_env/lib/python3.11/pathlib.py:931\u001b[39m, in \u001b[36mPath.iterdir\u001b[39m\u001b[34m(self)\u001b[39m\n\u001b[32m    927\u001b[39m \u001b[38;5;28;01mdef\u001b[39;00m\u001b[38;5;250m \u001b[39m\u001b[34miterdir\u001b[39m(\u001b[38;5;28mself\u001b[39m):\n\u001b[32m    928\u001b[39m \u001b[38;5;250m    \u001b[39m\u001b[33;03m\"\"\"Iterate over the files in this directory.  Does not yield any\u001b[39;00m\n\u001b[32m    929\u001b[39m \u001b[33;03m    result for the special paths '.' and '..'.\u001b[39;00m\n\u001b[32m    930\u001b[39m \u001b[33;03m    \"\"\"\u001b[39;00m\n\u001b[32m--> \u001b[39m\u001b[32m931\u001b[39m     \u001b[38;5;28;01mfor\u001b[39;00m name \u001b[38;5;129;01min\u001b[39;00m \u001b[43mos\u001b[49m\u001b[43m.\u001b[49m\u001b[43mlistdir\u001b[49m\u001b[43m(\u001b[49m\u001b[38;5;28;43mself\u001b[39;49m\u001b[43m)\u001b[49m:\n\u001b[32m    932\u001b[39m         \u001b[38;5;28;01myield\u001b[39;00m \u001b[38;5;28mself\u001b[39m._make_child_relpath(name)\n",
      "\u001b[31mFileNotFoundError\u001b[39m: [Errno 2] No such file or directory: 'data'"
     ]
    }
   ],
   "source": [
    "data_dir = Path(\"..\") / \"data\"\n",
    "sample_dirs = [d for d in data_dir.iterdir() if d.is_dir()]\n",
    "adatas = []\n",
    "\n",
    "for sample_dir in sample_dirs:\n",
    "    sample_name = sample_dir.name\n",
    "    h5_files = list(sample_dir.glob(\"*.h5\"))\n",
    "    \n",
    "    if h5_files:\n",
    "        # Load HDF5 format\n",
    "        adata = sc.read_10x_h5(h5_files[0])\n",
    "    else:\n",
    "        # Load MTX format\n",
    "        adata = sc.read_10x_mtx(sample_dir, var_names='gene_symbols', cache=True)\n",
    "    \n",
    "    adata.obs['sample_id'] = sample_name\n",
    "    adata.obs['group'] = \"HS\" if \"HS\" in sample_name else \"CTRL\"\n",
    "    adatas.append(adata)\n",
    "\n",
    "# Concatenate all samples into a single AnnData object\n",
    "adata = adatas[0].concatenate(adatas[1:], batch_key='batch', batch_categories=[a.obs[\"sample_id\"][0] for a in adatas])"
   ]
  },
  {
   "cell_type": "code",
   "execution_count": null,
   "id": "54156d8b-b83c-4917-9249-ea02ed59e79f",
   "metadata": {},
   "outputs": [],
   "source": []
  }
 ],
 "metadata": {
  "kernelspec": {
   "display_name": "Python (scanpy_env)",
   "language": "python",
   "name": "scanpy_env"
  },
  "language_info": {
   "codemirror_mode": {
    "name": "ipython",
    "version": 3
   },
   "file_extension": ".py",
   "mimetype": "text/x-python",
   "name": "python",
   "nbconvert_exporter": "python",
   "pygments_lexer": "ipython3",
   "version": "3.11.8"
  }
 },
 "nbformat": 4,
 "nbformat_minor": 5
}
